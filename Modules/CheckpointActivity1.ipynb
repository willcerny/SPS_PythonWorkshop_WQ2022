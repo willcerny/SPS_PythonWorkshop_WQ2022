{
 "cells": [
  {
   "cell_type": "markdown",
   "metadata": {},
   "source": [
    "# Cygnus-X1\n",
    "\n",
    "Cygnus-X1 is a binary system composed of a $14.8~M_{\\odot}$ black hole and a $19.2~M_{\\odot}$ companion star. This binary system rose to fame half-a-century ago, by providing the first strong evidence for the existence of a black hole (previously a purely theoretical concept). Cygnus X-1 was the subject of a friendly scientific wager between Stephen Hawking and Kip Thorne in 1975, with Hawking betting that it was not a black hole. He conceded the bet in 1990 after observational data had strengthened the case that there was indeed a black hole in the system (Wikipedia).\n",
    "\n",
    "Over the course of various sessions and small example problems, we will replicate the earlest studies of Cygnus-X1 to prove it hosts a black hole.\n",
    "\n",
    "Below is an artist's rendition of the Cygnus-X1 system (Credit: ESA/Hubble illustration)"
   ]
  },
  {
   "cell_type": "markdown",
   "metadata": {},
   "source": [
    "<img src=\"https://upload.wikimedia.org/wikipedia/commons/a/af/Cygnus_X-1.png\" width=\"1000\">"
   ]
  },
  {
   "cell_type": "markdown",
   "metadata": {},
   "source": [
    "A fun artistic gif of the Cygnus-X1 system (Credit: International Centre for Radio Astronomy Research)"
   ]
  },
  {
   "cell_type": "markdown",
   "metadata": {},
   "source": [
    "\n",
    "\n",
    "![ChessUrl](https://scitechdaily.com/images/Cygnus-X-1-System.gif \"chess\")"
   ]
  },
  {
   "cell_type": "markdown",
   "metadata": {},
   "source": [
    "Another Cygnus X1-artwork! A poster by NASA!"
   ]
  },
  {
   "cell_type": "markdown",
   "metadata": {},
   "source": [
    "<img src=\"https://upload.wikimedia.org/wikipedia/commons/c/c1/2259_Black_Hole_1280_English.jpg\" width=\"500\">"
   ]
  },
  {
   "cell_type": "markdown",
   "metadata": {},
   "source": [
    "Now onto a description of the first activity..."
   ]
  },
  {
   "cell_type": "markdown",
   "metadata": {},
   "source": [
    "### The cell below defines three lists of pre-generated data from Cygnus-X1\n",
    "\n",
    "- `t`: time in days\n",
    "- `y`: radial velocity in km/s\n",
    "- `e`: measurement uncertainty in km/s"
   ]
  },
  {
   "cell_type": "code",
   "execution_count": 3,
   "metadata": {},
   "outputs": [],
   "source": [
    "t = [0.0, 0.204, 0.408, 0.612, 0.816, 1.02, 1.224, 1.429, 1.633, 1.837, 2.041, 2.245, 2.449, 2.653, 2.857, 3.061, 3.265, 3.469, 3.673, 3.878, 4.082, 4.286, 4.49, 4.694, 4.898, 5.102, 5.306, 5.51, 5.714, 5.918, 6.122, 6.327, 6.531, 6.735, 6.939, 7.143, 7.347, 7.551, 7.755, 7.959, 8.163, 8.367, 8.571, 8.776, 8.98, 9.184, 9.388, 9.592, 9.796, 10.0]\n",
    "y = [-37.55, -41.255, -57.969, -103.153, -69.857, -108.081, -72.883, -22.181, -23.902, -10.552, 9.643, 24.596, 19.865, 63.39, 86.119, 97.693, 85.749, 49.787, 70.31, 61.841, 55.47, 24.833, 17.963, -2.547, -29.087, -29.025, -38.789, -52.018, -26.214, -75.611, -56.847, -81.612, -77.289, -67.474, -36.375, -30.239, 0.281, -18.789, -3.86, 74.184, 35.818, 41.341, 79.086, 61.935, 81.41, 79.111, 52.584, 64.492, 84.71, 46.898]\n",
    "e = 20\n"
   ]
  },
  {
   "cell_type": "code",
   "execution_count": 4,
   "metadata": {},
   "outputs": [
    {
     "data": {
      "image/png": "[encoded data removed]",
      "text/plain": [
       "<Figure size 432x288 with 1 Axes>"
      ]
     },
     "metadata": {
      "needs_background": "light"
     },
     "output_type": "display_data"
    }
   ],
   "source": [
    "# We will cover what all this plotting code means next week (Week 4). \n",
    "# For now, this is just here for visual reference! \n",
    "\n",
    "import matplotlib.pyplot as plt\n",
    "_=plt.errorbar(t,y,yerr=e,linestyle='',marker='o')\n",
    "plt.xlabel('Time (days)',fontsize=15)\n",
    "plt.ylabel('Radial Velocity (km/s)',fontsize=15)\n",
    "plt.show()"
   ]
  },
  {
   "cell_type": "markdown",
   "metadata": {},
   "source": [
    "The plot above visualizes the provided data. On the x-axis we plot time (in units of days) and on the y-axis we plot the radial velocity of the massive star in the Cygnus-X1 system. Radial velocity is the velocity of the massive star in the ``line-of-sight\" of the Earth (i.e., directly towards or away from us); as the black hole and star orbit each other, this velocity component will change in a periodic manner. "
   ]
  },
  {
   "cell_type": "markdown",
   "metadata": {},
   "source": [
    "# Task 1:  write three functions to summarize `y` (the provided radial velocity measurements)\n",
    "\n",
    "`def mean(l):\n",
    "    \"\"\"\n",
    "    inputs:  list, l\n",
    "    outputs: float, mean of the list\n",
    "    \"\"\"\n",
    "    `\n",
    "    \n",
    "`def median(l):\n",
    "    \"\"\"\n",
    "    inputs:  list, l\n",
    "    outputs: float, median of the list\n",
    "    \"\"\"\n",
    "    `\n",
    "    \n",
    "`def stdev(l):\n",
    "    \"\"\"\n",
    "    inputs:  list, l\n",
    "    outputs: float, standard deviation of the list\n",
    "    \"\"\"\n",
    "    `"
   ]
  },
  {
   "cell_type": "markdown",
   "metadata": {},
   "source": [
    "Recall that the mean $\\bar{x}$ of a list of elements {$x_i$} is defined as \n",
    "\n",
    "$\\Large \\bar{x} = \\frac{\\sum_{i = 0}^{n} x_i}{n+1 }$\n",
    "\n",
    "The median of a list is simply the \"middle\" number after the listed in sorted in ascending/descending order. For writing your own function that computes the median, you might find the `sorted()` function to be useful. Check out what it does!\n",
    "\n",
    "\n",
    "The standard deviation $\\sigma$ of a list of elements {$x_i$} is defined as \n",
    "\n",
    "$\\Large \\sigma = \\sqrt{\\frac{\\sum_{i = 0}^{n} (x_i - \\bar{x})^2 }{n+1 }}$\n",
    "\n",
    "\n",
    "Note that in the formulas for mean and standard deviation, the \"$n+1$\" in the denominator denotes the length of list. It is $n+1$ because we are starting from $i = 0$ and going to $i = n$ which is a total of \"n+1\" elements. This is contrast to some formulas you may find online which have \"$n$\" in denominator - this is because they summation index begins from $i = 1$ instead"
   ]
  },
  {
   "cell_type": "markdown",
   "metadata": {},
   "source": [
    "# Answer "
   ]
  },
  {
   "cell_type": "markdown",
   "metadata": {},
   "source": [
    "# Task 2:  combine the above functions to summarize the provided data through print statements\n",
    "\n",
    "`def summary(l):\n",
    "    \"\"\"\n",
    "    inputs:  list, l\n",
    "    outputs: \n",
    "        'mean=#'\n",
    "        'median='#'\n",
    "        'standard deviation=#'\n",
    "        (round to the thousands place)\n",
    "    \"\"\"\n",
    "    `"
   ]
  },
  {
   "cell_type": "markdown",
   "metadata": {},
   "source": [
    "# Answer "
   ]
  },
  {
   "cell_type": "code",
   "execution_count": 5,
   "metadata": {},
   "outputs": [],
   "source": [
    "def mean(L):\n",
    "    return sum(L) / len(L)"
   ]
  },
  {
   "cell_type": "code",
   "execution_count": 6,
   "metadata": {},
   "outputs": [
    {
     "data": {
      "text/plain": [
       "3.9190000000000014"
      ]
     },
     "execution_count": 6,
     "metadata": {},
     "output_type": "execute_result"
    }
   ],
   "source": [
    "mean(y)"
   ]
  },
  {
   "cell_type": "code",
   "execution_count": 14,
   "metadata": {},
   "outputs": [
    {
     "ename": "IndentationError",
     "evalue": "expected an indented block (<ipython-input-14-1c3506caced0>, line 8)",
     "output_type": "error",
     "traceback": [
      "\u001b[0;36m  File \u001b[0;32m\"<ipython-input-14-1c3506caced0>\"\u001b[0;36m, line \u001b[0;32m8\u001b[0m\n\u001b[0;31m    else:\u001b[0m\n\u001b[0m       ^\u001b[0m\n\u001b[0;31mIndentationError\u001b[0m\u001b[0;31m:\u001b[0m expected an indented block\n"
     ]
    }
   ],
   "source": [
    "def median(L): \n",
    "    sorted_list = sorted(L)\n",
    "    \n",
    "    \n",
    "    if (len(sorted_list) % 2) == 0:\n",
    "        ## do something\n",
    "        \n",
    "        \n",
    "    \n",
    "    else: \n",
    "        ## do something else\n",
    "    \n",
    "  \n",
    "    \n",
    "    return sorted_list"
   ]
  },
  {
   "cell_type": "code",
   "execution_count": 13,
   "metadata": {},
   "outputs": [
    {
     "name": "stdout",
     "output_type": "stream",
     "text": [
      "50\n"
     ]
    },
    {
     "data": {
      "text/plain": [
       "[-108.081,\n",
       " -103.153,\n",
       " -81.612,\n",
       " -77.289,\n",
       " -75.611,\n",
       " -72.883,\n",
       " -69.857,\n",
       " -67.474,\n",
       " -57.969,\n",
       " -56.847,\n",
       " -52.018,\n",
       " -41.255,\n",
       " -38.789,\n",
       " -37.55,\n",
       " -36.375,\n",
       " -30.239,\n",
       " -29.087,\n",
       " -29.025,\n",
       " -26.214,\n",
       " -23.902,\n",
       " -22.181,\n",
       " -18.789,\n",
       " -10.552,\n",
       " -3.86,\n",
       " -2.547,\n",
       " 0.281,\n",
       " 9.643,\n",
       " 17.963,\n",
       " 19.865,\n",
       " 24.596,\n",
       " 24.833,\n",
       " 35.818,\n",
       " 41.341,\n",
       " 46.898,\n",
       " 49.787,\n",
       " 52.584,\n",
       " 55.47,\n",
       " 61.841,\n",
       " 61.935,\n",
       " 63.39,\n",
       " 64.492,\n",
       " 70.31,\n",
       " 74.184,\n",
       " 79.086,\n",
       " 79.111,\n",
       " 81.41,\n",
       " 84.71,\n",
       " 85.749,\n",
       " 86.119,\n",
       " 97.693]"
      ]
     },
     "execution_count": 13,
     "metadata": {},
     "output_type": "execute_result"
    }
   ],
   "source": [
    "median(y)"
   ]
  },
  {
   "cell_type": "markdown",
   "metadata": {},
   "source": [
    "# Task 3: repeat task 2, using `numpy` operations"
   ]
  },
  {
   "cell_type": "markdown",
   "metadata": {},
   "source": [
    "# Answer "
   ]
  },
  {
   "cell_type": "code",
   "execution_count": null,
   "metadata": {},
   "outputs": [],
   "source": []
  },
  {
   "cell_type": "code",
   "execution_count": null,
   "metadata": {},
   "outputs": [],
   "source": []
  },
  {
   "cell_type": "code",
   "execution_count": null,
   "metadata": {},
   "outputs": [],
   "source": []
  }
 ],
 "metadata": {
  "kernelspec": {
   "display_name": "Python 3",
   "language": "python",
   "name": "python3"
  },
  "language_info": {
   "codemirror_mode": {
    "name": "ipython",
    "version": 3
   },
   "file_extension": ".py",
   "mimetype": "text/x-python",
   "name": "python",
   "nbconvert_exporter": "python",
   "pygments_lexer": "ipython3",
   "version": "3.7.4"
  }
 },
 "nbformat": 4,
 "nbformat_minor": 5
}
