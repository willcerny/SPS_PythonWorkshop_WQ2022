{
 "cells": [
  {
   "cell_type": "markdown",
   "metadata": {},
   "source": [
    "# SPS 'Python for Research' Workshop Series - Lecture 3 (01/31/2021)"
   ]
  },
  {
   "cell_type": "markdown",
   "metadata": {},
   "source": [
    "**Welcome to the third session of UChicago SPS' introductory Python workshop series!** The instructor for today's workshop is William Cerny (willcerny@gmail.com). This notebook's checkpoint activity was created by Jared Siegel."
   ]
  },
  {
   "cell_type": "markdown",
   "metadata": {},
   "source": [
    "# Topics for the Day"
   ]
  },
  {
   "cell_type": "markdown",
   "metadata": {},
   "source": [
    "**- Quick Introduction to range() and reminder of for loops**  <br/> \n",
    "**- Recap and Further Examples of Functions** (thanks for the feedback!)  <br/> \n",
    "**- Introduction to Packages, generally** <br/>\n",
    "**- Introduction to \"numpy\": the numerical Python package** <br/>\n",
    "**- Checkpoint Coding Exercise**"
   ]
  },
  {
   "cell_type": "markdown",
   "metadata": {},
   "source": [
    "# -----------------------------------------------------------------------------------------------------------"
   ]
  },
  {
   "cell_type": "markdown",
   "metadata": {},
   "source": [
    "## Tiny Add-on to Last Week's Lecture: the range() function"
   ]
  },
  {
   "cell_type": "markdown",
   "metadata": {},
   "source": [
    "In using for loops, sometimes you want an operation to execute a fixed number of times. Here, it is useful to introduce a function called range(). Its use is best shown by example:"
   ]
  },
  {
   "cell_type": "code",
   "execution_count": 6,
   "metadata": {},
   "outputs": [
    {
     "name": "stdout",
     "output_type": "stream",
     "text": [
      "25\n",
      "30\n",
      "35\n",
      "40\n",
      "45\n"
     ]
    }
   ],
   "source": [
    "for index in range(5,10):\n",
    "    print(5 * index)"
   ]
  },
  {
   "cell_type": "markdown",
   "metadata": {},
   "source": [
    "When we use range(10) for our for loop, we have looped through 10 total numbers, starting from 0 and going up to 9. While this may seem like a non-intuitive scheme, it is useful for iterating through a list. See below:"
   ]
  },
  {
   "cell_type": "code",
   "execution_count": 2,
   "metadata": {},
   "outputs": [
    {
     "name": "stdout",
     "output_type": "stream",
     "text": [
      "The zoo has 6 animals\n",
      "0 cat\n",
      "1 dog\n",
      "2 frog\n",
      "3 zebra\n",
      "4 horse\n",
      "5 elephant\n"
     ]
    }
   ],
   "source": [
    "zoo = ['cat','dog','frog','zebra','horse','elephant']\n",
    "\n",
    "print('The zoo has',len(zoo),'animals')\n",
    "\n",
    "for i in range(len(zoo)):\n",
    "    print(i,zoo[i])"
   ]
  },
  {
   "cell_type": "markdown",
   "metadata": {},
   "source": [
    "In the above, we have used range(), paired with list indexing, to iterate through each element in our starting list. This is effectively the exact reason why range() is designed to span 0 to (given argument - 1): you can never give an invalid index for your list if you do things this way."
   ]
  },
  {
   "cell_type": "markdown",
   "metadata": {},
   "source": [
    "Unfortunately, the below shows a limitation of range(): we can't easily print these values outside of the context of a loop. We'll return to this issue later today."
   ]
  },
  {
   "cell_type": "code",
   "execution_count": 3,
   "metadata": {},
   "outputs": [
    {
     "name": "stdout",
     "output_type": "stream",
     "text": [
      "range(0, 10)\n"
     ]
    }
   ],
   "source": [
    "print(range(10))"
   ]
  },
  {
   "cell_type": "markdown",
   "metadata": {},
   "source": [
    "# -----------------------------------------------------------------------------------------------------------"
   ]
  },
  {
   "cell_type": "markdown",
   "metadata": {},
   "source": [
    "# A Recap of Functions in Python"
   ]
  },
  {
   "cell_type": "markdown",
   "metadata": {},
   "source": [
    "I'll try to clarify some of the jargon as we go along. To start,"
   ]
  },
  {
   "cell_type": "markdown",
   "metadata": {},
   "source": [
    "### A \"function\" in Python is just a block of code that does something when it is \"called\" (used)."
   ]
  },
  {
   "cell_type": "markdown",
   "metadata": {},
   "source": [
    "We have encountered functions in two contexts so far: The first of these are the **default** functions that come with Python. For example, "
   ]
  },
  {
   "cell_type": "code",
   "execution_count": 7,
   "metadata": {},
   "outputs": [
    {
     "name": "stdout",
     "output_type": "stream",
     "text": [
      "4\n"
     ]
    }
   ],
   "source": [
    "mylist = [6,7,8,9]\n",
    "length = len(mylist)\n",
    "print(length)"
   ]
  },
  {
   "cell_type": "markdown",
   "metadata": {},
   "source": [
    "Here, we have **called** the default Python function len() to find the length of the pre-defined list \"mylist\". In this case, we refer to mylist as an **argument** (input) of the function len(). "
   ]
  },
  {
   "cell_type": "markdown",
   "metadata": {},
   "source": [
    "The second kind of functions we have encountered came up last week: **user-defined** functions. An example with all the pieces labelled is shown below:"
   ]
  },
  {
   "cell_type": "code",
   "execution_count": 9,
   "metadata": {},
   "outputs": [],
   "source": [
    "def functionName(argument1, argument2): ## function starts with \"def\", then the function's name\n",
    "    '''\n",
    "    Optional but highly encouraged: add text separated by lines of triple quotes to include details about \n",
    "    what your function actually does. This is called the \"docstring\" of your function. This needs to be indented.\n",
    "    '''\n",
    "\n",
    "     ### Now, the \"meat\" of your code goes here.\n",
    "     ### Be sure to INDENT all lines of code within the function using a tab or 4 spaces! \n",
    "    result = argument1 - argument2 \n",
    "#     print(result)\n",
    "    return result ## this tells your function what to output.\n"
   ]
  },
  {
   "cell_type": "markdown",
   "metadata": {},
   "source": [
    "Note the key point that argument1 and argument2 are effectively placeholders: you don't need to define them in advance."
   ]
  },
  {
   "cell_type": "markdown",
   "metadata": {},
   "source": [
    "We can now **call** this function either using pre-defined variables or just giving arguments directly:"
   ]
  },
  {
   "cell_type": "code",
   "execution_count": 10,
   "metadata": {},
   "outputs": [
    {
     "name": "stdout",
     "output_type": "stream",
     "text": [
      "3\n"
     ]
    }
   ],
   "source": [
    "## using pre-defined variables (recommended)\n",
    "\n",
    "v1 = 8\n",
    "v2 = 5\n",
    " \n",
    "result = functionName(v1, v2) ### stores the returned value from the function in a variable\n",
    "print(result)"
   ]
  },
  {
   "cell_type": "markdown",
   "metadata": {},
   "source": [
    "The above would be fully equivalent to the following:"
   ]
  },
  {
   "cell_type": "code",
   "execution_count": 11,
   "metadata": {},
   "outputs": [
    {
     "name": "stdout",
     "output_type": "stream",
     "text": [
      "3\n"
     ]
    }
   ],
   "source": [
    "result = functionName(8, 5)  ## using numbers directly rather than pre-defined variables.\n",
    "print(result)"
   ]
  },
  {
   "cell_type": "markdown",
   "metadata": {},
   "source": [
    "**Note: The order of the arguments matters!!**"
   ]
  },
  {
   "cell_type": "code",
   "execution_count": 12,
   "metadata": {},
   "outputs": [
    {
     "name": "stdout",
     "output_type": "stream",
     "text": [
      "-3\n"
     ]
    }
   ],
   "source": [
    "v1 = 8\n",
    "v2 = 5\n",
    "\n",
    "# Now with the ordering of the arguments switched!\n",
    "result2 = functionName(v2, v1) \n",
    "print(result2)"
   ]
  },
  {
   "cell_type": "markdown",
   "metadata": {},
   "source": [
    "## A couple new nuances about function arguments"
   ]
  },
  {
   "cell_type": "markdown",
   "metadata": {},
   "source": [
    "### (1) If you are worried about ordering of function arguments (which is more common than you might think), you can explicitly spell out which of your \"inputs\" corresponds to which argument of the function:"
   ]
  },
  {
   "cell_type": "code",
   "execution_count": 13,
   "metadata": {},
   "outputs": [
    {
     "name": "stdout",
     "output_type": "stream",
     "text": [
      "3\n"
     ]
    }
   ],
   "source": [
    "v1 = 8\n",
    "v2 = 5\n",
    "\n",
    "## now there is no ambiguity which input goes to which placeholder\n",
    "result2 = functionName(argument1 = v1, argument2 = v2) \n",
    "print(result2)"
   ]
  },
  {
   "cell_type": "markdown",
   "metadata": {},
   "source": [
    "Now, with this explicit labelling scheme, we can safely reverse the order of the arguments if desired:"
   ]
  },
  {
   "cell_type": "code",
   "execution_count": 14,
   "metadata": {},
   "outputs": [
    {
     "name": "stdout",
     "output_type": "stream",
     "text": [
      "3\n"
     ]
    }
   ],
   "source": [
    "v1 = 8\n",
    "v2 = 5\n",
    "\n",
    "\n",
    "result2 = functionName(argument2 = v2,argument1 = v1) \n",
    "print(result2)"
   ]
  },
  {
   "cell_type": "markdown",
   "metadata": {},
   "source": [
    "As expected, the result above is the same as from a few cells ago."
   ]
  },
  {
   "cell_type": "markdown",
   "metadata": {},
   "source": [
    "### (2) It is often useful to have what are called \"default\" arguments, which stand-in for the value of an argument if one is not provided. For example,"
   ]
  },
  {
   "cell_type": "code",
   "execution_count": 15,
   "metadata": {},
   "outputs": [],
   "source": [
    "def calculate_rocket_force(mass, acceleration_upwards, considerGravity = False):\n",
    "    '''\n",
    "    Calculate the net force experienced by a rocket, either with or without gravity.\n",
    "    '''\n",
    "    if considerGravity != True: ### != means \"not equal to\". Here, this is the same as saying \"== False\"\n",
    "        return mass * acceleration_upwards\n",
    "    \n",
    "    else:\n",
    "        return mass * acceleration_upwards - (mass * 9.8) "
   ]
  },
  {
   "cell_type": "markdown",
   "metadata": {},
   "source": [
    "Because we specified a default value for \"considerGravity\" in the function arguments, we need not redefine it here:"
   ]
  },
  {
   "cell_type": "code",
   "execution_count": 16,
   "metadata": {},
   "outputs": [
    {
     "name": "stdout",
     "output_type": "stream",
     "text": [
      "100\n"
     ]
    }
   ],
   "source": [
    "m = 10\n",
    "a = 10\n",
    "\n",
    "## In the line below, we are NOT specifiying considerGravity\n",
    "net_force =  calculate_rocket_force(mass = m, acceleration_upwards =  a) \n",
    "print(net_force)"
   ]
  },
  {
   "cell_type": "markdown",
   "metadata": {},
   "source": [
    "Of course, if we don't want this, we can just provide a value ourselves:"
   ]
  },
  {
   "cell_type": "code",
   "execution_count": 17,
   "metadata": {},
   "outputs": [
    {
     "name": "stdout",
     "output_type": "stream",
     "text": [
      "2.0\n"
     ]
    }
   ],
   "source": [
    "m = 10\n",
    "a = 10\n",
    "\n",
    "grav = True\n",
    "\n",
    "## In the line below, we ARE specifyinh considerGravity\n",
    "net_force =  calculate_rocket_force(mass = m, acceleration_upwards =  a, considerGravity = grav) \n",
    "print(net_force)"
   ]
  },
  {
   "cell_type": "markdown",
   "metadata": {},
   "source": [
    "or, in short:"
   ]
  },
  {
   "cell_type": "code",
   "execution_count": 18,
   "metadata": {},
   "outputs": [
    {
     "name": "stdout",
     "output_type": "stream",
     "text": [
      "100\n",
      "2.0\n"
     ]
    }
   ],
   "source": [
    "print(calculate_rocket_force(m,a))\n",
    "print(calculate_rocket_force(m,a,True))"
   ]
  },
  {
   "cell_type": "markdown",
   "metadata": {},
   "source": [
    "####  While this may seem like a totally pendantic nuance, it turns out to be very important when using scientific functions provided by packages. They could be making some default assumption that you might not be aware of, so be careful!"
   ]
  },
  {
   "cell_type": "markdown",
   "metadata": {},
   "source": [
    "# -----------------------------------------------------------------------------------------------------------"
   ]
  },
  {
   "cell_type": "markdown",
   "metadata": {},
   "source": [
    "# Function Practice Example #1"
   ]
  },
  {
   "cell_type": "markdown",
   "metadata": {},
   "source": [
    "### Task: Write a function that takes in a distance (in meters) and returns the amount of time (in seconds) it would take for light to travel that distance. Include a boolean argument \"roundtrip\" which, if True, finds the round-trip travel time. Have the function assume by default that the trip is one-way."
   ]
  },
  {
   "cell_type": "code",
   "execution_count": null,
   "metadata": {},
   "outputs": [],
   "source": [
    "## Solution Goes Here."
   ]
  },
  {
   "cell_type": "markdown",
   "metadata": {},
   "source": [
    "### Test Cases:"
   ]
  },
  {
   "cell_type": "markdown",
   "metadata": {},
   "source": [
    "(1) Calculate the time it takes for light to travel 3 * 10^8 meters (one-way). You can guess what the answer should be! <br/>\n",
    "(2) Calculate the time it takes for light to travel 1 foot (.3048 meters) <br/>\n",
    "(3) Calculate the round trip travel time for light to travel from the Sun to Earth and back (~300 billion meters)"
   ]
  },
  {
   "cell_type": "markdown",
   "metadata": {},
   "source": [
    "# -----------------------------------------------------------------------------------------------------------"
   ]
  },
  {
   "cell_type": "markdown",
   "metadata": {},
   "source": [
    "# Function Practice Exercise (on your own time)"
   ]
  },
  {
   "cell_type": "markdown",
   "metadata": {},
   "source": [
    "### Task: Write a function that calculates whether an input integer number is divisible by EITHER a single number or a list of numbers (see test cases for an example to clarify). The function should take only two arguments: the number you are testing, and a second argument for the second number/list. If the second input is a single number, then return a single True or False. If the second input is a list, return a list of True/False."
   ]
  },
  {
   "cell_type": "markdown",
   "metadata": {},
   "source": [
    "Bonus: add a safeguard of some kind in case the first number is <= 0."
   ]
  },
  {
   "cell_type": "code",
   "execution_count": null,
   "metadata": {},
   "outputs": [],
   "source": [
    "## Solution Goes Here."
   ]
  },
  {
   "cell_type": "markdown",
   "metadata": {},
   "source": [
    "### Test Cases:"
   ]
  },
  {
   "cell_type": "markdown",
   "metadata": {},
   "source": [
    "(1) Test your function with the first input as 42 and the second input as 14. The answers should be True. <br/>\n",
    "(2) Test your function with the first input as 13 and the second input as a list of all the positive, nonzero integers less than 10. The resulting list should be all False because 13 is prime. <br/>\n",
    "(3) Test your function with the first input as 15 and the second input as [1,3,5,7]. This should return [True, True, True, False]"
   ]
  },
  {
   "cell_type": "markdown",
   "metadata": {},
   "source": [
    "### Extra Bonus Problem: Repeat the above, but adapt the list-input case to return a SINGLE boolean that is True if the first input is divisible by ALL values in the list given as input. This will help you practice boolean logic."
   ]
  },
  {
   "cell_type": "markdown",
   "metadata": {},
   "source": [
    "In other words, if first number = 20 and the second input is the list list [1,2,3,5,10], you should return a single value of \"False\" because 20 is not visible by 3. If the second input was the list [1,2,5,10], the result should be a single value of \"True\"."
   ]
  },
  {
   "cell_type": "markdown",
   "metadata": {},
   "source": [
    "# -----------------------------------------------------------------------------------------------------------"
   ]
  },
  {
   "cell_type": "markdown",
   "metadata": {},
   "source": [
    "# Introduction to Packages"
   ]
  },
  {
   "cell_type": "markdown",
   "metadata": {},
   "source": [
    "Everything we have done thus far has used default, out-of-the-box Python. Although you can solve a huge range of problems using just default Python, there are plenty of common tasks that others have implemented for us that we can use. By doing so, we can avoiding \"re-inventing the wheel\". **The way we access these useful utilities created by others is through \"packages\" (also called by the mostly equivalent name \"modules\").**"
   ]
  },
  {
   "cell_type": "markdown",
   "metadata": {},
   "source": [
    "As noted in Lecture 1, there are more than 300,000 existing Python packages that you could use. In practice, there are only a very small number of packages you need to do almost any research task. **The great news is that by using Anaconda, you already have the very most important packages pre-installed!** Therefore, installing additional packages is beyond the scope of this lecture."
   ]
  },
  {
   "cell_type": "markdown",
   "metadata": {},
   "source": [
    "## Importing Packages"
   ]
  },
  {
   "cell_type": "markdown",
   "metadata": {},
   "source": [
    "Importing Python packages is easy. See examples:"
   ]
  },
  {
   "cell_type": "code",
   "execution_count": 19,
   "metadata": {},
   "outputs": [],
   "source": [
    "import numpy # numpy = short for \"numerical Python\" = we'll use this a lot later today\n",
    "import matplotlib # ubiquitously-used plotting library (more next week)\n",
    "import pandas # a package for manipulating tabular data \n",
    "import scipy # scipy = short for \"scientific Python\" = we'll use this in week 6"
   ]
  },
  {
   "cell_type": "markdown",
   "metadata": {},
   "source": [
    "This only needs to be done ONCE in your code/notebook. It then applies to all cells."
   ]
  },
  {
   "cell_type": "markdown",
   "metadata": {},
   "source": [
    "**This workshop series will focus exclusively on these four, because they are likely the most useful by a huge margin.**"
   ]
  },
  {
   "cell_type": "markdown",
   "metadata": {},
   "source": [
    "For completeness, here's a list of packages that Anaconda comes pre-installed with. I personally only have interacted with a small fraction of these, since, as noted before, only a small number of packages are actually needed to solve a huge range of research problems. Link to list: https://docs.anaconda.com/anaconda/packages/py3.7_win-64/"
   ]
  },
  {
   "cell_type": "markdown",
   "metadata": {},
   "source": [
    "## Key Point #1: In general, the reason you import a package is because it contains useful FUNCTIONS."
   ]
  },
  {
   "cell_type": "markdown",
   "metadata": {},
   "source": [
    "For example, let's say that you want to import a function from a package to solve our earlier issue with range(). In other words, let's say we want to print all numbers from 0 to 9. To do so:"
   ]
  },
  {
   "cell_type": "code",
   "execution_count": 24,
   "metadata": {},
   "outputs": [
    {
     "data": {
      "text/plain": [
       "array([ 0,  1,  2,  3,  4,  5,  6,  7,  8,  9, 10, 11, 12, 13, 14, 15, 16,\n",
       "       17, 18, 19, 20, 21, 22, 23, 24, 25, 26, 27, 28, 29, 30, 31, 32, 33,\n",
       "       34, 35, 36, 37, 38, 39, 40, 41, 42, 43, 44, 45, 46, 47, 48, 49, 50,\n",
       "       51, 52, 53, 54, 55, 56, 57, 58, 59, 60, 61, 62, 63, 64, 65, 66, 67,\n",
       "       68, 69, 70, 71, 72, 73, 74, 75, 76, 77, 78, 79, 80, 81, 82, 83, 84,\n",
       "       85, 86, 87, 88, 89, 90, 91, 92, 93, 94, 95, 96, 97, 98, 99])"
      ]
     },
     "execution_count": 24,
     "metadata": {},
     "output_type": "execute_result"
    }
   ],
   "source": [
    "numpy.arange(100) "
   ]
  },
  {
   "cell_type": "markdown",
   "metadata": {},
   "source": [
    "This is **IDENTICAL** to the functions we have been working with up to now: it has a function name (here, \"arange\"), followed by a pair of parantheses wrapping around the argument (here, 10). **The only change is that the function name is now preceded by the name of the package from which it came. **"
   ]
  },
  {
   "cell_type": "markdown",
   "metadata": {},
   "source": [
    "### The most obvious exception to this general point is that sometimes you important packages to get specific physical constants:"
   ]
  },
  {
   "cell_type": "code",
   "execution_count": 25,
   "metadata": {},
   "outputs": [
    {
     "name": "stdout",
     "output_type": "stream",
     "text": [
      "The value of pi is 3.141592653589793\n",
      "The value of Euler's number is 2.718281828459045\n"
     ]
    }
   ],
   "source": [
    "import math # admittedly this is a pretty hillarious line of code\n",
    "print('The value of pi is', math.pi)\n",
    "print('The value of Euler\\'s number is', math.e)"
   ]
  },
  {
   "cell_type": "code",
   "execution_count": 27,
   "metadata": {},
   "outputs": [
    {
     "data": {
      "text/plain": [
       "403.428793492735"
      ]
     },
     "execution_count": 27,
     "metadata": {},
     "output_type": "execute_result"
    }
   ],
   "source": [
    "math.e**6"
   ]
  },
  {
   "cell_type": "markdown",
   "metadata": {},
   "source": [
    "## Key Point #2: In general, we often abbreviate the names of packages when we import them in order to save time later on. "
   ]
  },
  {
   "cell_type": "markdown",
   "metadata": {},
   "source": [
    "In particular, we ALWAYS import numpy as follows:"
   ]
  },
  {
   "cell_type": "code",
   "execution_count": 28,
   "metadata": {},
   "outputs": [],
   "source": [
    "import numpy as np ## the \"nickname\" of the package is now np."
   ]
  },
  {
   "cell_type": "markdown",
   "metadata": {},
   "source": [
    "The example from a few cells back now can be written:"
   ]
  },
  {
   "cell_type": "code",
   "execution_count": 29,
   "metadata": {},
   "outputs": [
    {
     "data": {
      "text/plain": [
       "array([0, 1, 2, 3, 4, 5, 6, 7, 8, 9])"
      ]
     },
     "execution_count": 29,
     "metadata": {},
     "output_type": "execute_result"
    }
   ],
   "source": [
    "np.arange(10) ## identical to numpy.arange(10)"
   ]
  },
  {
   "cell_type": "markdown",
   "metadata": {},
   "source": [
    "## Key Point #3: Google is your friend. There isn't a nice and easy list of all the useful functions you might need and which packages they're from, but a simple google search will tell you! This is not something to be ashamed of: it is a VITAL part of research coding!"
   ]
  },
  {
   "cell_type": "markdown",
   "metadata": {},
   "source": [
    "# ---------------------------------------------------------------------------------------------------------"
   ]
  },
  {
   "cell_type": "markdown",
   "metadata": {},
   "source": [
    "# More Fun with Numpy"
   ]
  },
  {
   "cell_type": "markdown",
   "metadata": {},
   "source": [
    "Above, we presented an example using the numpy package. **I claim with nearly 100% confidence (but without a source) that numpy is both the most popular and most important package in all of Python.** For this reason, it's worth a bit of a tour of what numpy can do."
   ]
  },
  {
   "cell_type": "markdown",
   "metadata": {},
   "source": [
    "## Key Point 1: The main purpose of numpy is to allow for efficient data handling and computation, including for multidimensional collections of objects. Numpy achieves this through a new data type called an \"array\". "
   ]
  },
  {
   "cell_type": "markdown",
   "metadata": {},
   "source": [
    "This might seem like something trivial, but it actually turns out to be super relevant. Consider the following example:"
   ]
  },
  {
   "cell_type": "code",
   "execution_count": 31,
   "metadata": {},
   "outputs": [],
   "source": [
    "# define a list using default Python\n",
    "list1 = [1,3,5]\n",
    "\n",
    "## numpy.array is a function that takes a list as an argument and converts it into an array\n",
    "array1 = np.array([1,3,5]) "
   ]
  },
  {
   "cell_type": "code",
   "execution_count": 32,
   "metadata": {},
   "outputs": [
    {
     "name": "stdout",
     "output_type": "stream",
     "text": [
      "[1, 3, 5]\n"
     ]
    }
   ],
   "source": [
    "print(list1)"
   ]
  },
  {
   "cell_type": "code",
   "execution_count": 33,
   "metadata": {},
   "outputs": [
    {
     "name": "stdout",
     "output_type": "stream",
     "text": [
      "[1 3 5]\n"
     ]
    }
   ],
   "source": [
    "print(array1)"
   ]
  },
  {
   "cell_type": "markdown",
   "metadata": {},
   "source": [
    "Let's say we want to add 10 to each element in list1 and array1. You might think of trying:"
   ]
  },
  {
   "cell_type": "code",
   "execution_count": 34,
   "metadata": {},
   "outputs": [
    {
     "ename": "TypeError",
     "evalue": "can only concatenate list (not \"int\") to list",
     "output_type": "error",
     "traceback": [
      "\u001b[0;31m---------------------------------------------------------------------------\u001b[0m",
      "\u001b[0;31mTypeError\u001b[0m                                 Traceback (most recent call last)",
      "\u001b[0;32m<ipython-input-34-d80bbf2a5f98>\u001b[0m in \u001b[0;36m<module>\u001b[0;34m\u001b[0m\n\u001b[0;32m----> 1\u001b[0;31m \u001b[0mlist1\u001b[0m \u001b[0;34m+\u001b[0m \u001b[0;36m10\u001b[0m\u001b[0;34m\u001b[0m\u001b[0;34m\u001b[0m\u001b[0m\n\u001b[0m",
      "\u001b[0;31mTypeError\u001b[0m: can only concatenate list (not \"int\") to list"
     ]
    }
   ],
   "source": [
    "list1 + 10"
   ]
  },
  {
   "cell_type": "markdown",
   "metadata": {},
   "source": [
    "but evidently that returns an error. Default Python doesn't think you can simply add a single number to a list, because they are incompatible datatypes. Contrast that with numpy:"
   ]
  },
  {
   "cell_type": "code",
   "execution_count": 37,
   "metadata": {},
   "outputs": [
    {
     "data": {
      "text/plain": [
       "array([ 7, 17, 27])"
      ]
     },
     "execution_count": 37,
     "metadata": {},
     "output_type": "execute_result"
    }
   ],
   "source": [
    "array1  * 5 + 2"
   ]
  },
  {
   "cell_type": "markdown",
   "metadata": {},
   "source": [
    "The same behavior occurs if you were to try things like apply a function to the whole list/array:"
   ]
  },
  {
   "cell_type": "code",
   "execution_count": 38,
   "metadata": {},
   "outputs": [],
   "source": [
    "def cube_root(input_collection):\n",
    "    return input_collection**(1/3)"
   ]
  },
  {
   "cell_type": "code",
   "execution_count": 39,
   "metadata": {},
   "outputs": [
    {
     "ename": "TypeError",
     "evalue": "unsupported operand type(s) for ** or pow(): 'list' and 'float'",
     "output_type": "error",
     "traceback": [
      "\u001b[0;31m---------------------------------------------------------------------------\u001b[0m",
      "\u001b[0;31mTypeError\u001b[0m                                 Traceback (most recent call last)",
      "\u001b[0;32m<ipython-input-39-fe4f557b2cf5>\u001b[0m in \u001b[0;36m<module>\u001b[0;34m\u001b[0m\n\u001b[1;32m      1\u001b[0m \u001b[0;31m## list version\u001b[0m\u001b[0;34m\u001b[0m\u001b[0;34m\u001b[0m\u001b[0;34m\u001b[0m\u001b[0m\n\u001b[1;32m      2\u001b[0m \u001b[0mmy_list\u001b[0m \u001b[0;34m=\u001b[0m \u001b[0;34m[\u001b[0m\u001b[0;36m8\u001b[0m\u001b[0;34m,\u001b[0m\u001b[0;36m27\u001b[0m\u001b[0;34m,\u001b[0m\u001b[0;36m64\u001b[0m\u001b[0;34m]\u001b[0m\u001b[0;34m\u001b[0m\u001b[0;34m\u001b[0m\u001b[0m\n\u001b[0;32m----> 3\u001b[0;31m \u001b[0mcube_root\u001b[0m\u001b[0;34m(\u001b[0m\u001b[0mmy_list\u001b[0m\u001b[0;34m)\u001b[0m\u001b[0;34m\u001b[0m\u001b[0;34m\u001b[0m\u001b[0m\n\u001b[0m",
      "\u001b[0;32m<ipython-input-38-42ee26303f1f>\u001b[0m in \u001b[0;36mcube_root\u001b[0;34m(input_collection)\u001b[0m\n\u001b[1;32m      1\u001b[0m \u001b[0;32mdef\u001b[0m \u001b[0mcube_root\u001b[0m\u001b[0;34m(\u001b[0m\u001b[0minput_collection\u001b[0m\u001b[0;34m)\u001b[0m\u001b[0;34m:\u001b[0m\u001b[0;34m\u001b[0m\u001b[0;34m\u001b[0m\u001b[0m\n\u001b[0;32m----> 2\u001b[0;31m     \u001b[0;32mreturn\u001b[0m \u001b[0minput_collection\u001b[0m\u001b[0;34m**\u001b[0m\u001b[0;34m(\u001b[0m\u001b[0;36m1\u001b[0m\u001b[0;34m/\u001b[0m\u001b[0;36m3\u001b[0m\u001b[0;34m)\u001b[0m\u001b[0;34m\u001b[0m\u001b[0;34m\u001b[0m\u001b[0m\n\u001b[0m",
      "\u001b[0;31mTypeError\u001b[0m: unsupported operand type(s) for ** or pow(): 'list' and 'float'"
     ]
    }
   ],
   "source": [
    "## list version\n",
    "my_list = [8,27,64]\n",
    "cube_root(my_list)"
   ]
  },
  {
   "cell_type": "code",
   "execution_count": 40,
   "metadata": {},
   "outputs": [
    {
     "data": {
      "text/plain": [
       "array([2., 3., 4.])"
      ]
     },
     "execution_count": 40,
     "metadata": {},
     "output_type": "execute_result"
    }
   ],
   "source": [
    "## array version\n",
    "my_array = np.array(my_list)\n",
    "cube_root(my_array)"
   ]
  },
  {
   "cell_type": "markdown",
   "metadata": {},
   "source": [
    "#### We often call code that operates over the whole array \"vectorized\". Vectorized code is always faster than loops, because loops are slow in Python."
   ]
  },
  {
   "cell_type": "markdown",
   "metadata": {},
   "source": [
    "### Multidimensional Arrays"
   ]
  },
  {
   "cell_type": "code",
   "execution_count": null,
   "metadata": {},
   "outputs": [],
   "source": [
    "multi_array = np.array([[1,3,5],[2,4,6],[3,5,7]])\n",
    "print(multi_array)"
   ]
  },
  {
   "cell_type": "markdown",
   "metadata": {},
   "source": [
    "#### Example of linear algebra fun that this allows:"
   ]
  },
  {
   "cell_type": "code",
   "execution_count": null,
   "metadata": {},
   "outputs": [],
   "source": [
    "multi_array.T"
   ]
  },
  {
   "cell_type": "markdown",
   "metadata": {},
   "source": [
    "## Key Point 3: The other main purpose of numpy is to provide hundreds of useful functions for numerical computing."
   ]
  },
  {
   "cell_type": "markdown",
   "metadata": {},
   "source": [
    "Examples:"
   ]
  },
  {
   "cell_type": "code",
   "execution_count": 41,
   "metadata": {},
   "outputs": [
    {
     "name": "stdout",
     "output_type": "stream",
     "text": [
      "-0.8390715290764524\n"
     ]
    }
   ],
   "source": [
    "print(np.cos(10)) ## cosine function"
   ]
  },
  {
   "cell_type": "code",
   "execution_count": 44,
   "metadata": {},
   "outputs": [
    {
     "data": {
      "text/plain": [
       "array([0. , 0.1, 0.2, 0.3, 0.4, 0.5, 0.6, 0.7, 0.8, 0.9, 1. , 1.1, 1.2,\n",
       "       1.3, 1.4, 1.5, 1.6, 1.7, 1.8, 1.9, 2. , 2.1, 2.2, 2.3, 2.4, 2.5,\n",
       "       2.6, 2.7, 2.8, 2.9, 3. , 3.1, 3.2, 3.3, 3.4, 3.5, 3.6, 3.7, 3.8,\n",
       "       3.9, 4. , 4.1, 4.2, 4.3, 4.4, 4.5, 4.6, 4.7, 4.8, 4.9, 5. ])"
      ]
     },
     "execution_count": 44,
     "metadata": {},
     "output_type": "execute_result"
    }
   ],
   "source": [
    "np.linspace(0,5,51) ## generate 51 evenly spaced numbers between 0 and 5"
   ]
  },
  {
   "cell_type": "code",
   "execution_count": null,
   "metadata": {},
   "outputs": [],
   "source": [
    "# use submodule \"random\" from numpy to generate random numbers "
   ]
  },
  {
   "cell_type": "code",
   "execution_count": 45,
   "metadata": {},
   "outputs": [
    {
     "name": "stdout",
     "output_type": "stream",
     "text": [
      "4\n",
      "8\n",
      "5\n",
      "4\n",
      "9\n"
     ]
    }
   ],
   "source": [
    "import numpy.random as rand\n",
    "\n",
    "for i in range(5): ## \n",
    "    print(rand.randint(0,10))"
   ]
  },
  {
   "cell_type": "code",
   "execution_count": null,
   "metadata": {},
   "outputs": [],
   "source": [
    "## demonstate ? here"
   ]
  },
  {
   "cell_type": "code",
   "execution_count": 46,
   "metadata": {},
   "outputs": [
    {
     "data": {
      "text/plain": [
       "5.0"
      ]
     },
     "execution_count": 46,
     "metadata": {},
     "output_type": "execute_result"
    }
   ],
   "source": [
    "np.median([1,3,5,7,9])"
   ]
  },
  {
   "cell_type": "markdown",
   "metadata": {},
   "source": [
    "# We'll go over more next week. Now, for a checkpoint exercise!"
   ]
  }
 ],
 "metadata": {
  "kernelspec": {
   "display_name": "Python 3",
   "language": "python",
   "name": "python3"
  },
  "language_info": {
   "codemirror_mode": {
    "name": "ipython",
    "version": 3
   },
   "file_extension": ".py",
   "mimetype": "text/x-python",
   "name": "python",
   "nbconvert_exporter": "python",
   "pygments_lexer": "ipython3",
   "version": "3.7.4"
  }
 },
 "nbformat": 4,
 "nbformat_minor": 2
}
